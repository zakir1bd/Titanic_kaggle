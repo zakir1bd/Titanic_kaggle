{
  "nbformat": 4,
  "nbformat_minor": 0,
  "metadata": {
    "colab": {
      "name": "First program",
      "provenance": [],
      "authorship_tag": "ABX9TyMT/Y+9tgm8AvVjq5TyDSbJ",
      "include_colab_link": true
    },
    "kernelspec": {
      "name": "python3",
      "display_name": "Python 3"
    }
  },
  "cells": [
    {
      "cell_type": "markdown",
      "metadata": {
        "id": "view-in-github",
        "colab_type": "text"
      },
      "source": [
        "<a href=\"https://colab.research.google.com/github/zakir1bd/Titanic_kaggle/blob/master/First_program.ipynb\" target=\"_parent\"><img src=\"https://colab.research.google.com/assets/colab-badge.svg\" alt=\"Open In Colab\"/></a>"
      ]
    },
    {
      "cell_type": "code",
      "metadata": {
        "id": "JR9zOpNKyvQa",
        "outputId": "7dbd8c03-c457-451d-8158-42fe027582a2",
        "colab": {
          "base_uri": "https://localhost:8080/"
        }
      },
      "source": [
        "print(\"Hello world\")    "
      ],
      "execution_count": 1,
      "outputs": [
        {
          "output_type": "stream",
          "text": [
            "Hello world\n"
          ],
          "name": "stdout"
        }
      ]
    },
    {
      "cell_type": "code",
      "metadata": {
        "id": "WhZpR6LthHPT",
        "outputId": "0a0a61da-51ec-4abe-b012-5c6e12b4bb2c",
        "colab": {
          "base_uri": "https://localhost:8080/"
        }
      },
      "source": [
        "city =['Toronto', 'Dhaka', 'Ctg']\r\n",
        "for city_name in city:\r\n",
        "  print (city_name)\r\n"
      ],
      "execution_count": 7,
      "outputs": [
        {
          "output_type": "stream",
          "text": [
            "Toronto\n",
            "Dhaka\n",
            "Ctg\n"
          ],
          "name": "stdout"
        }
      ]
    },
    {
      "cell_type": "code",
      "metadata": {
        "id": "ka946nkyoM-w",
        "outputId": "6dff2b6b-23cb-49af-dacf-2462281a61f0",
        "colab": {
          "base_uri": "https://localhost:8080/"
        }
      },
      "source": [
        "browsers = [\"Safari\", \"Firefox\", \"Google Chrome\", \"Opera\", \"IE\"]\r\n",
        "i = 0\r\n",
        "while i < len(browsers):\r\n",
        "    print( browsers[i])\r\n",
        "    #add 1 to i each iteration so that we exit once we reach the total number of browsers\r\n",
        "    i = i + 2"
      ],
      "execution_count": 10,
      "outputs": [
        {
          "output_type": "stream",
          "text": [
            "Safari\n",
            "Google Chrome\n",
            "IE\n"
          ],
          "name": "stdout"
        }
      ]
    }
  ]
}